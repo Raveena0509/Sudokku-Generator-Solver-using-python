{
 "cells": [
  {
   "cell_type": "code",
   "execution_count": 17,
   "id": "e832a327",
   "metadata": {},
   "outputs": [],
   "source": [
    "# Setting up gaem\n",
    "import pygame\n",
    "import requests\n",
    "\n",
    "\n",
    "WIDTH = 550\n",
    "background_color = (251, 247, 245)\n",
    "original_grid_element_color = (52, 31, 151)\n",
    "\n",
    "response = requests.get(\"https://sugoku.herokuapp.com/board?difficulty=easy\")\n",
    "grid=response.json()['board']\n",
    "grid_original= [[grid[x][y] for y in range(len(grid[0]))] for x in range(len(grid))]\n",
    "\n",
    "\n",
    "def main():\n",
    "    pygame.init()\n",
    "    win = pygame.display.set_mode((WIDTH, WIDTH))\n",
    "    pygame.display.set_caption(\"Sudoku\")\n",
    "    win.fill(background_color)\n",
    "    myfont = pygame.font.SysFont('Comic Sans MS', 35)\n",
    "    \n",
    "    for i in range(0,10):\n",
    "        if(i%3==0):\n",
    "            pygame.draw.line(win, (0,0,0),(50+50*i, 50),(50+50*i, 500), 4)\n",
    "            pygame.draw.line(win, (0,0,0),(50,50+50*i),(500, 50+50*i),4)\n",
    "             \n",
    "            \n",
    "        pygame.draw.line(win, (0,0,0),(50+50*i, 50),(50+50*i, 500), 2)\n",
    "        pygame.draw.line(win, (0,0,0),(50,50+50*i),(500, 50+50*i),2)\n",
    "    pygame.display.update()  \n",
    "    \n",
    "    for i in range(0, len(grid[0])):\n",
    "        for j in range(0, len(grid[0])):\n",
    "            if(0<grid[i][j]<10):\n",
    "                value = myfont.render(str(grid[i][j]), True,original_grid_element_color )\n",
    "                win.blit(value, ((j+1)*50+15, (i+1)*50))\n",
    "    pygame.display.update()\n",
    "               \n",
    "        \n",
    "    while True:\n",
    "        for event in pygame.event.get():\n",
    "            if event.type == pygame.QUIT:\n",
    "                pygame.quit()\n",
    "                return\n",
    "main()\n",
    "            \n",
    "        "
   ]
  },
  {
   "cell_type": "code",
   "execution_count": 16,
   "id": "716737c4",
   "metadata": {},
   "outputs": [
    {
     "name": "stdout",
     "output_type": "stream",
     "text": [
      "Requirement already satisfied: pygame in c:\\users\\use\\anaconda3\\lib\\site-packages (2.0.1)\n",
      "Note: you may need to restart the kernel to use updated packages.\n"
     ]
    }
   ],
   "source": [
    "pip install pygame"
   ]
  },
  {
   "cell_type": "code",
   "execution_count": null,
   "id": "0c1827cd",
   "metadata": {},
   "outputs": [],
   "source": [
    "# Adding grid\n",
    "# api for populating grid\n",
    "\n",
    "\n"
   ]
  }
 ],
 "metadata": {
  "kernelspec": {
   "display_name": "Python 3",
   "language": "python",
   "name": "python3"
  },
  "language_info": {
   "codemirror_mode": {
    "name": "ipython",
    "version": 3
   },
   "file_extension": ".py",
   "mimetype": "text/x-python",
   "name": "python",
   "nbconvert_exporter": "python",
   "pygments_lexer": "ipython3",
   "version": "3.8.8"
  }
 },
 "nbformat": 4,
 "nbformat_minor": 5
}
