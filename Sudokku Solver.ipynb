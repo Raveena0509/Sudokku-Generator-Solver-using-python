{
 "cells": [
  {
   "cell_type": "code",
   "execution_count": 5,
   "id": "54ea45b7",
   "metadata": {},
   "outputs": [],
   "source": [
    "import numpy as np"
   ]
  },
  {
   "cell_type": "code",
   "execution_count": 8,
   "id": "0ec3d38a",
   "metadata": {},
   "outputs": [
    {
     "name": "stdout",
     "output_type": "stream",
     "text": [
      "[[0 0 2 0 6 0 0 0 0]\n",
      " [3 0 0 0 0 9 0 0 0]\n",
      " [7 9 0 2 4 0 5 0 8]\n",
      " [0 4 9 1 0 8 0 0 0]\n",
      " [0 0 0 0 2 0 0 0 0]\n",
      " [0 0 0 4 0 3 7 9 0]\n",
      " [9 0 1 0 3 7 0 2 4]\n",
      " [0 0 0 8 0 0 0 0 6]\n",
      " [0 0 0 0 1 0 9 0 0]]\n"
     ]
    }
   ],
   "source": [
    "grid = [[0,0,2,0,6,0,0,0,0],\n",
    "        [3,0,0,0,0,9,0,0,0],\n",
    "        [7,9,0,2,4,0,5,0,8],\n",
    "        [0,4,9,1,0,8,0,0,0],\n",
    "        [0,0,0,0,2,0,0,0,0],\n",
    "        [0,0,0,4,0,3,7,9,0],\n",
    "        [9,0,1,0,3,7,0,2,4],\n",
    "        [0,0,0,8,0,0,0,0,6],\n",
    "        [0,0,0,0,1,0,9,0,0]]\n",
    "\n",
    "print(np.matrix(grid))"
   ]
  },
  {
   "cell_type": "code",
   "execution_count": 9,
   "id": "6dba2bd0",
   "metadata": {},
   "outputs": [
    {
     "name": "stdout",
     "output_type": "stream",
     "text": [
      "[[4 8 2 3 6 5 1 7 9]\n",
      " [3 1 5 7 8 9 6 4 2]\n",
      " [7 9 6 2 4 1 5 3 8]\n",
      " [5 4 9 1 7 8 2 6 3]\n",
      " [1 7 3 9 2 6 4 8 5]\n",
      " [6 2 8 4 5 3 7 9 1]\n",
      " [9 6 1 5 3 7 8 2 4]\n",
      " [2 5 7 8 9 4 3 1 6]\n",
      " [8 3 4 6 1 2 9 5 7]]\n"
     ]
    }
   ],
   "source": [
    "def possible(row,column,number):\n",
    "    # Is the no. appears in given row?\n",
    "    for i in range(0,9):\n",
    "        if grid[row][i] == number:\n",
    "            return False   \n",
    "    \n",
    "    # Is the no. appears in given column?\n",
    "    for i in range(0,9):\n",
    "        if grid[i][column] == number:\n",
    "            return False  \n",
    "    \n",
    "    # Is the no.appears within the block?\n",
    "    x0 = (column // 3) * 3\n",
    "    y0 = (row // 3) * 3\n",
    "    for i in range(0,3):\n",
    "        for j in range(0,3):\n",
    "            if grid[y0+i][x0+j] == number:\n",
    "                return False\n",
    "            \n",
    "    return True\n",
    "\n",
    "def solve():\n",
    "    global grid\n",
    "    for row in range(0,9):\n",
    "        for column in range(0,9):\n",
    "            if grid[row][column] == 0:\n",
    "                for number in range(1,10):\n",
    "                    if possible(row, column, number):\n",
    "                        grid[row][column] =number\n",
    "                        solve()\n",
    "                        grid[row][column]=0\n",
    "                return \n",
    "            \n",
    "    print(np.matrix(grid))\n",
    "    \n",
    "    \n",
    "solve()\n",
    "            \n",
    "    "
   ]
  },
  {
   "cell_type": "code",
   "execution_count": 14,
   "id": "d6eee43c",
   "metadata": {},
   "outputs": [
    {
     "name": "stdout",
     "output_type": "stream",
     "text": [
      "0\n",
      "0\n",
      "2\n",
      "0\n",
      "6\n",
      "0\n",
      "0\n",
      "0\n",
      "0\n",
      "3\n",
      "0\n",
      "0\n",
      "0\n",
      "0\n",
      "9\n",
      "0\n",
      "0\n",
      "0\n",
      "7\n",
      "9\n",
      "0\n",
      "2\n",
      "4\n",
      "0\n",
      "5\n",
      "0\n",
      "8\n",
      "0\n",
      "4\n",
      "9\n",
      "1\n",
      "0\n",
      "8\n",
      "0\n",
      "0\n",
      "0\n",
      "0\n",
      "0\n",
      "0\n",
      "0\n",
      "2\n",
      "0\n",
      "0\n",
      "0\n",
      "0\n",
      "0\n",
      "0\n",
      "0\n",
      "4\n",
      "0\n",
      "3\n",
      "7\n",
      "9\n",
      "0\n",
      "9\n",
      "0\n",
      "1\n",
      "0\n",
      "3\n",
      "7\n",
      "0\n",
      "2\n",
      "4\n",
      "0\n",
      "0\n",
      "0\n",
      "8\n",
      "0\n",
      "0\n",
      "0\n",
      "0\n",
      "6\n",
      "0\n",
      "0\n",
      "0\n",
      "0\n",
      "1\n",
      "0\n",
      "9\n",
      "0\n",
      "0\n",
      "0 0 2 0 6 0 0 0 0 \n",
      "3 0 0 0 0 9 0 0 0 \n",
      "7 9 0 2 4 0 5 0 8 \n",
      "0 4 9 1 0 8 0 0 0 \n",
      "0 0 0 0 2 0 0 0 0 \n",
      "0 0 0 4 0 3 7 9 0 \n",
      "9 0 1 0 3 7 0 2 4 \n",
      "0 0 0 8 0 0 0 0 6 \n",
      "0 0 0 0 1 0 9 0 0 \n"
     ]
    }
   ],
   "source": [
    "# Get an i/p of 9*9 matrix\n",
    "\n",
    "r=9\n",
    "c=9\n",
    "grid =[]\n",
    "for i in range(r):\n",
    "    a=[]\n",
    "    for j in range(c):\n",
    "        k = int(input())\n",
    "        a.append(k)\n",
    "        \n",
    "    grid.append(a)\n",
    "    \n",
    "for i in range(r):\n",
    "    for j in range(c):\n",
    "        print(grid[i][j], end =\" \")\n",
    "    print()\n",
    "    "
   ]
  },
  {
   "cell_type": "code",
   "execution_count": 19,
   "id": "85e0b4db",
   "metadata": {},
   "outputs": [
    {
     "name": "stdout",
     "output_type": "stream",
     "text": [
      "[['0' '0' '9' '0' '5' '7' '4' '0' '0']\n",
      " ['0' '0' '5' '1' '0' '4' '2' '0' '0']\n",
      " ['0' '0' '0' '0' '2' '6' '0' '9' '5']\n",
      " ['1' '0' '0' '4' '0' '9' '0' '0' '0']\n",
      " ['3' '0' '0' '0' '7' '0' '0' '0' '0']\n",
      " ['0' '0' '7' '0' '0' '0' '0' '4' '0']\n",
      " ['9' '0' '1' '0' '0' '0' '0' '0' '0']\n",
      " ['0' '4' '0' '7' '0' '0' '0' '8' '9']\n",
      " ['7' '3' '2' '0' '4' '0' '0' '0' '0']]\n"
     ]
    }
   ],
   "source": [
    "def possible(row,column,number):\n",
    "    # Is the no. appears in given row?\n",
    "    for i in range(0,9):\n",
    "        if grid[row][i] == number:\n",
    "            return False   \n",
    "    \n",
    "    # Is the no. appears in given column?\n",
    "    for i in range(0,9):\n",
    "        if grid[i][column] == number:\n",
    "            return False  \n",
    "    \n",
    "    # Is the no.appears within the block?\n",
    "    x0 = (column // 3) * 3\n",
    "    y0 = (row // 3) * 3\n",
    "    for i in range(0,3):\n",
    "        for j in range(0,3):\n",
    "            if grid[y0+i][x0+j] == number:\n",
    "                return False\n",
    "            \n",
    "    return True\n",
    "\n",
    "def solve():\n",
    "    global grid\n",
    "    for row in range(0,9):\n",
    "        for column in range(0,9):\n",
    "            if grid[row][column] == 0:\n",
    "                for number in range(1,10):\n",
    "                    if possible(row, column, number):\n",
    "                        grid[row][column] =number\n",
    "                        solve()\n",
    "                        grid[row][column]=0\n",
    "                return \n",
    "            \n",
    "    print(np.matrix(grid))\n",
    "    \n",
    "    \n",
    "solve()\n",
    "            "
   ]
  },
  {
   "cell_type": "code",
   "execution_count": 18,
   "id": "1fba5bfc",
   "metadata": {},
   "outputs": [
    {
     "data": {
      "text/plain": [
       "array([['0', '0', '9', '0', '5', '7', '4', '0', '0'],\n",
       "       ['0', '0', '5', '1', '0', '4', '2', '0', '0'],\n",
       "       ['0', '0', '0', '0', '2', '6', '0', '9', '5'],\n",
       "       ['1', '0', '0', '4', '0', '9', '0', '0', '0'],\n",
       "       ['3', '0', '0', '0', '7', '0', '0', '0', '0'],\n",
       "       ['0', '0', '7', '0', '0', '0', '0', '4', '0'],\n",
       "       ['9', '0', '1', '0', '0', '0', '0', '0', '0'],\n",
       "       ['0', '4', '0', '7', '0', '0', '0', '8', '9'],\n",
       "       ['7', '3', '2', '0', '4', '0', '0', '0', '0']], dtype='<U1')"
      ]
     },
     "execution_count": 18,
     "metadata": {},
     "output_type": "execute_result"
    }
   ],
   "source": [
    "## Create a sudoku puzzle\n",
    "\n",
    "from dokusan import generators\n",
    "import numpy as np\n",
    "\n",
    "arr = np.array(list(str(generators.random_sudoku(avg_rank=150))))\n",
    "grid = arr.reshape(9,9)\n",
    "grid\n"
   ]
  },
  {
   "cell_type": "code",
   "execution_count": 17,
   "id": "ac18a0a2",
   "metadata": {},
   "outputs": [
    {
     "name": "stdout",
     "output_type": "stream",
     "text": [
      "Collecting dokusan\n",
      "  Downloading dokusan-0.1.0a6-py3-none-any.whl (22 kB)\n",
      "Installing collected packages: dokusan\n",
      "Successfully installed dokusan-0.1.0a6\n",
      "Note: you may need to restart the kernel to use updated packages.\n"
     ]
    }
   ],
   "source": [
    "pip install dokusan"
   ]
  },
  {
   "cell_type": "code",
   "execution_count": null,
   "id": "0749d255",
   "metadata": {},
   "outputs": [],
   "source": []
  }
 ],
 "metadata": {
  "kernelspec": {
   "display_name": "Python 3",
   "language": "python",
   "name": "python3"
  },
  "language_info": {
   "codemirror_mode": {
    "name": "ipython",
    "version": 3
   },
   "file_extension": ".py",
   "mimetype": "text/x-python",
   "name": "python",
   "nbconvert_exporter": "python",
   "pygments_lexer": "ipython3",
   "version": "3.8.8"
  }
 },
 "nbformat": 4,
 "nbformat_minor": 5
}
